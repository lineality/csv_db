{
  "nbformat": 4,
  "nbformat_minor": 0,
  "metadata": {
    "colab": {
      "name": "goto_iloc_function_c_csv_db_v3.ipynb",
      "provenance": [],
      "collapsed_sections": [
        "7Qio39h9SlHw"
      ]
    },
    "kernelspec": {
      "name": "python3",
      "display_name": "Python 3"
    },
    "language_info": {
      "name": "python"
    }
  },
  "cells": [
    {
      "cell_type": "markdown",
      "source": [
        "# df.shape() function for c csv_db\n",
        "```\n",
        "This notebook works in environments such as colab,\n",
        "and may work locally if you have gcc installed,\n",
        "to create, to test, and to run, C code and produce binary files.\n",
        "```"
      ],
      "metadata": {
        "id": "stJP7ZiTm7JA"
      }
    },
    {
      "cell_type": "markdown",
      "source": [
        "# Make demo.csv"
      ],
      "metadata": {
        "id": "7Qio39h9SlHw"
      }
    },
    {
      "cell_type": "code",
      "source": [
        "\"\"\"\n",
        "Make csv file.\n",
        "\"\"\"\n",
        "\n",
        "\n",
        "#########################\n",
        "# Text for demo.csv file\n",
        "#########################\n",
        "c_source_code_string = \"\"\"\n",
        "/*\n",
        "c program to write a sample demo dummy .csv file\n",
        "\n",
        "https://www.geeksforgeeks.org/strings-in-c-2/\n",
        "*/\n",
        "\n",
        "#include <stdio.h>\n",
        "#include <stdlib.h>\n",
        "\n",
        "int main() {\n",
        "\n",
        "    // set variable/memory for dummy csv file\n",
        "    char str[100] = \"a,b,c\\\\n1,2,3\\\\n4,5,6\";\n",
        "\n",
        "\n",
        "    // creating file pointer to work with files\n",
        "    FILE *file_pointer;\n",
        "\n",
        "\n",
        "    // opening file in writing mode\n",
        "    file_pointer = fopen( \"demo.csv\", \"w\" );\n",
        "\n",
        "\n",
        "    // check for error: was file created? if not exit program with message.\n",
        "    if ( file_pointer == NULL ) {\n",
        "        printf( \"The Error! The Error! AHHHHHHHH!!!!!\" );\n",
        "        exit( 1 );\n",
        "    }\n",
        "\n",
        "    // write to file\n",
        "    fprintf( file_pointer, \"%s\", str );\n",
        "    \n",
        "\n",
        "    // close file, ending file-write\n",
        "    fclose( file_pointer );\n",
        "    \n",
        "\n",
        "    // end program, exit\n",
        "    return 0;\n",
        "}\n",
        "\"\"\"\n",
        "\n",
        "####################################\n",
        "# make it: Make your .c source file\n",
        "####################################\n",
        "with open('source_file.c', \"w\") as file_object:\n",
        "   # write file content\n",
        "   file_object.write( c_source_code_string )\n",
        "\n",
        "#################################\n",
        "# Compile your c executible file\n",
        "#################################\n",
        "\n",
        "! gcc -o executable.exe source_file.c\n",
        "\n",
        "##########################################\n",
        "# List Files in Current Working Directory\n",
        "##########################################\n",
        "!ls\n",
        "\n",
        "#################################\n",
        "# Run your c executible file\n",
        "#################################\n",
        "\n",
        "!./executable.exe"
      ],
      "metadata": {
        "colab": {
          "base_uri": "https://localhost:8080/"
        },
        "id": "IEEP7F0TSkDm",
        "outputId": "c154504d-548c-464b-afd8-8c3b41b10414"
      },
      "execution_count": 1,
      "outputs": [
        {
          "output_type": "stream",
          "name": "stdout",
          "text": [
            "executable.exe\tsample_data  source_file.c\n"
          ]
        }
      ]
    },
    {
      "cell_type": "markdown",
      "source": [
        "# C Source Code"
      ],
      "metadata": {
        "id": "-0m-nTUvjSbq"
      }
    },
    {
      "cell_type": "code",
      "source": [
        "\"\"\"\n",
        "df_shape( file_name ) -> shape: # rows, # columns\n",
        "\"\"\"\n",
        "\n",
        "c_source_code_string = \"\"\"/*\n",
        "df.shape() function for c csv_db\n",
        "\n",
        "GGAshbrook 2022.08.21\n",
        "\n",
        "\"Copyright [year] <Copyright Owner>\"  [legal/copyright]\"\n",
        "*/\n",
        "\n",
        "#include <stdio.h>\n",
        "#include <stdlib.h>\n",
        "#include <string.h>\n",
        "\n",
        "#define MAX_FILE_NAME 100\n",
        "\n",
        "int main(int argc, char **argv) {\n",
        "      ////////////\n",
        "     // variables\n",
        "    /////////////\n",
        "\n",
        "    // file path to (and name of) csv file, input as argument\n",
        "    char *path;\n",
        "    FILE* file_pointer;\n",
        "    int read_to_this_row_new_lines;\n",
        "    int read_to_this_column_commas;\n",
        "    int total_character_step_count = 0;\n",
        "    int total_cell_count = 1;\n",
        "\n",
        "      ///////////////////////////\n",
        "     // Check and Set Variables\n",
        "    ///////////////////////////\n",
        "\n",
        "    // check length of input\n",
        "    if ( argc != 4 ) {\n",
        "        // Error message in English\n",
        "        printf(\"incorrect number of input arguments: \");\n",
        "        printf(\"After NAME.exe -> enter: 1. FILE_NAME.csv\");\n",
        "        printf(\"2. target row (int), 3. Target colum (int)\");\n",
        "\n",
        "        return EXIT_FAILURE;\n",
        "        }\n",
        "\n",
        "    // first input is the file path (including file name)\n",
        "    path = argv[1];\n",
        "\n",
        "    // second input is the target row\n",
        "    // pseudocode: read_to_this_row_new_lines = argv[2];\n",
        "    sscanf(argv[2], \"%d\", &read_to_this_row_new_lines);\n",
        "\n",
        "    // third input is the target column\n",
        "    // pseudocode: read_to_this_column_commas = argv[3];\n",
        "    sscanf(argv[3], \"%d\", &read_to_this_column_commas);\n",
        "\n",
        "    // Character counter (result)\n",
        "    int column_comma_counter = 0, row_newline_counter = 0;\n",
        "\n",
        "    char filename[MAX_FILE_NAME];\n",
        "\n",
        "    // To store a character read from file\n",
        "    char c;\n",
        "\n",
        "      ///////////////////////\n",
        "     // Open and Check File\n",
        "    ///////////////////////\n",
        "\n",
        "    // Open file (use the file name given in first input)\n",
        "    file_pointer = fopen(path, \"r\");\n",
        "\n",
        "    // if there is no file, exit to an error message\n",
        "    if (!file_pointer) {\n",
        "        // Error message in English\n",
        "        printf(\"specify your file: e.g. ./dfhead.exe YOUR_FILE_NAME\");\n",
        "\n",
        "        // return machine error message\n",
        "        perror(path);\n",
        "\n",
        "        // fully exit probram\n",
        "        return EXIT_FAILURE;\n",
        "        }\n",
        "\n",
        "    // Extract characters from file\n",
        "    // and store in character c\n",
        "    for (c = getc(file_pointer); c != EOF; c = getc(file_pointer)) {\n",
        "        // if at end of file  -> exit loop\n",
        "        if ( c == EOF )\n",
        "            break;\n",
        "\n",
        "        // if you are at your destination -> exit loop\n",
        "        if ((row_newline_counter == read_to_this_row_new_lines) &\n",
        "        (column_comma_counter == read_to_this_column_commas)) {\n",
        "          break;\n",
        "        }\n",
        "\n",
        "        // Count total read steps through file\n",
        "        // To get to the target_iloc destination\n",
        "        total_character_step_count++;\n",
        "\n",
        "\n",
        "        // count columns (commas)\n",
        "        if ( c == ',' ) {\n",
        "            column_comma_counter++;\n",
        "\n",
        "            // add to cell counter\n",
        "            total_cell_count++;\n",
        "        }\n",
        "\n",
        "        // count rows (new lines)\n",
        "        if ( c == '\\\\n' ) {\n",
        "            row_newline_counter++;\n",
        "\n",
        "            // And reset the comma counter to zero\n",
        "            column_comma_counter = 0;\n",
        "        }\n",
        "\n",
        "\n",
        "\n",
        "        // End For Loop\n",
        "        }\n",
        "\n",
        "    // Close the file\n",
        "    fclose(file_pointer);\n",
        "\n",
        "    printf(\"\\\\nFile = %s\",\n",
        "    path);\n",
        "\n",
        "    printf(\"\\\\nArrived @ index location = (%d,%d) (row, column)\",\n",
        "    row_newline_counter,\n",
        "    column_comma_counter);\n",
        "\n",
        "    printf(\"\\\\nCells-Along starting at One = %d, File_Steps = %d\",\n",
        "    total_cell_count, total_character_step_count);\n",
        "\n",
        "    return total_character_step_count;\n",
        "}\n",
        "\"\"\"\n",
        "\n",
        "####################################\n",
        "# Make it: Make your .c source file\n",
        "####################################\n",
        "with open('goto_source.c', \"w\") as file_object:\n",
        "   # write file content\n",
        "   file_object.write( c_source_code_string )\n",
        "\n",
        "#################################\n",
        "# Compile your c executible file\n",
        "#################################\n",
        "\n",
        "! gcc -o goto_iloc.exe goto_source.c\n",
        "\n",
        "##########################################\n",
        "# List Files in Current Working Directory\n",
        "##########################################\n",
        "!ls\n",
        "\n",
        "#############################\n",
        "# Run your c executible file\n",
        "#############################\n",
        "\n",
        "!./goto_iloc.exe demo.csv 0 2\n"
      ],
      "metadata": {
        "colab": {
          "base_uri": "https://localhost:8080/"
        },
        "id": "dTTAz2FD7PAD",
        "outputId": "9fbf9986-bc9d-4a6b-df84-f06bcca910c9"
      },
      "execution_count": 31,
      "outputs": [
        {
          "output_type": "stream",
          "name": "stdout",
          "text": [
            "demo.csv\tgoto_iloc.exe  sample_data  source_file.c\n",
            "executable.exe\tgoto_source.c  shape.exe\n",
            "\n",
            "File = demo.csv\n",
            "Arrived @ index location = (0,2) (row, column)\n",
            "Cells-Along starting at One = 3, File_Steps = 4"
          ]
        }
      ]
    },
    {
      "cell_type": "markdown",
      "source": [
        "# Lint"
      ],
      "metadata": {
        "id": "E8_MAQ2jE9Td"
      }
    },
    {
      "cell_type": "code",
      "source": [
        "!pip install cpplint"
      ],
      "metadata": {
        "colab": {
          "base_uri": "https://localhost:8080/"
        },
        "id": "G_U4xMyQE0u4",
        "outputId": "c6be3768-e306-49cc-ea23-ddcb88bd846a"
      },
      "execution_count": 13,
      "outputs": [
        {
          "output_type": "stream",
          "name": "stdout",
          "text": [
            "Looking in indexes: https://pypi.org/simple, https://us-python.pkg.dev/colab-wheels/public/simple/\n",
            "Collecting cpplint\n",
            "  Downloading cpplint-1.6.1-py3-none-any.whl (77 kB)\n",
            "\u001b[K     |████████████████████████████████| 77 kB 3.3 MB/s \n",
            "\u001b[?25hInstalling collected packages: cpplint\n",
            "Successfully installed cpplint-1.6.1\n"
          ]
        }
      ]
    },
    {
      "cell_type": "code",
      "source": [
        "!cpplint goto_source.c"
      ],
      "metadata": {
        "colab": {
          "base_uri": "https://localhost:8080/"
        },
        "id": "DgOrkzDTE-Un",
        "outputId": "e8e960dd-b97e-4372-c94a-43269ad0999c"
      },
      "execution_count": 29,
      "outputs": [
        {
          "output_type": "stream",
          "name": "stdout",
          "text": [
            "Done processing goto_source.c\n"
          ]
        }
      ]
    }
  ]
}