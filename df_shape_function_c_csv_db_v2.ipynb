{
  "nbformat": 4,
  "nbformat_minor": 0,
  "metadata": {
    "colab": {
      "name": "df_shape_function_c_csv_db_v2.ipynb",
      "provenance": [],
      "collapsed_sections": [
        "7Qio39h9SlHw"
      ]
    },
    "kernelspec": {
      "name": "python3",
      "display_name": "Python 3"
    },
    "language_info": {
      "name": "python"
    }
  },
  "cells": [
    {
      "cell_type": "markdown",
      "source": [
        "# df.shape() function for c csv_db\n",
        "```\n",
        "This notebook works in environments such as colab,\n",
        "and may work locally if you have gcc installed,\n",
        "to create, to test, and to run, C code and produce binary files.\n",
        "```"
      ],
      "metadata": {
        "id": "stJP7ZiTm7JA"
      }
    },
    {
      "cell_type": "markdown",
      "source": [
        "# Make demo.csv"
      ],
      "metadata": {
        "id": "7Qio39h9SlHw"
      }
    },
    {
      "cell_type": "code",
      "source": [
        "\"\"\"\n",
        "Make csv file.\n",
        "\"\"\"\n",
        "\n",
        "\n",
        "#########################\n",
        "# Text for demo.csv file\n",
        "#########################\n",
        "c_source_code_string = \"\"\"\n",
        "/*\n",
        "c program to write a sample demo dummy .csv file\n",
        "\n",
        "https://www.geeksforgeeks.org/strings-in-c-2/\n",
        "*/\n",
        "\n",
        "#include <stdio.h>\n",
        "#include <stdlib.h>\n",
        "\n",
        "int main() {\n",
        "\n",
        "    // set variable/memory for dummy csv file\n",
        "    char str[100] = \"a,b,c\\\\n1,2,3\\\\n4,5,6\";\n",
        "\n",
        "\n",
        "    // creating file pointer to work with files\n",
        "    FILE *file_pointer;\n",
        "\n",
        "\n",
        "    // opening file in writing mode\n",
        "    file_pointer = fopen( \"demo.csv\", \"w\" );\n",
        "\n",
        "\n",
        "    // check for error: was file created? if not exit program with message.\n",
        "    if ( file_pointer == NULL ) {\n",
        "        printf( \"The Error! The Error! AHHHHHHHH!!!!!\" );\n",
        "        exit( 1 );\n",
        "    }\n",
        "\n",
        "    // write to file\n",
        "    fprintf( file_pointer, \"%s\", str );\n",
        "    \n",
        "\n",
        "    // close file, ending file-write\n",
        "    fclose( file_pointer );\n",
        "    \n",
        "\n",
        "    // end program, exit\n",
        "    return 0;\n",
        "}\n",
        "\"\"\"\n",
        "\n",
        "####################################\n",
        "# make it: Make your .c source file\n",
        "####################################\n",
        "with open('source_file.c', \"w\") as file_object:\n",
        "   # write file content\n",
        "   file_object.write( c_source_code_string )\n",
        "\n",
        "#################################\n",
        "# Compile your c executible file\n",
        "#################################\n",
        "\n",
        "! gcc -o executable.exe source_file.c\n",
        "\n",
        "##########################################\n",
        "# List Files in Current Working Directory\n",
        "##########################################\n",
        "!ls\n",
        "\n",
        "#################################\n",
        "# Run your c executible file\n",
        "#################################\n",
        "\n",
        "!./executable.exe"
      ],
      "metadata": {
        "colab": {
          "base_uri": "https://localhost:8080/"
        },
        "id": "IEEP7F0TSkDm",
        "outputId": "eae3810b-2eea-4e82-fc3f-dc933e3d1b2f"
      },
      "execution_count": 12,
      "outputs": [
        {
          "output_type": "stream",
          "name": "stdout",
          "text": [
            "demo.csv  executable.exe  sample_data  source_file.c\n"
          ]
        }
      ]
    },
    {
      "cell_type": "markdown",
      "source": [
        "# C Source Code"
      ],
      "metadata": {
        "id": "-0m-nTUvjSbq"
      }
    },
    {
      "cell_type": "code",
      "source": [
        "\"\"\"\n",
        "shape:\n",
        "\"\"\"\n",
        "\n",
        "c_source_code_string = \"\"\"/*\n",
        "df.shape() function for c csv_db\n",
        "\n",
        "GGAshbrook 2022.08.21\n",
        "\n",
        "\"Copyright [year] <Copyright Owner>\"  [legal/copyright]\"\n",
        "*/\n",
        "\n",
        "// C Program to count\n",
        "// the Number of Characters in a Text File\n",
        "\n",
        "#include <stdio.h>\n",
        "#define MAX_FILE_NAME 100\n",
        "\n",
        "int main() {\n",
        "    FILE* fp;\n",
        "\n",
        "    // Character counter (result)\n",
        "    int count = 0;\n",
        "    int collumn_comma_count = 0;\n",
        "    int row_new_line_count = 0;\n",
        "\n",
        "    int column_comma_counter = 0, row_newline_counter = 0;\n",
        "\n",
        "    char filename[MAX_FILE_NAME]  = \"demo.csv\";\n",
        "\n",
        "    // To store a character read from file\n",
        "    char c;\n",
        "\n",
        "    // Get file name from user.\n",
        "    // The file should be either in current folder\n",
        "    // or complete path should be provided\n",
        "    // printf(\"Enter file name: \");\n",
        "    // scanf(\"%s\", filename);\n",
        "\n",
        "    // Open the file\n",
        "    fp = fopen(filename, \"r\");\n",
        "\n",
        "    // Check if file exists\n",
        "    if (fp == NULL) {\n",
        "        printf(\"Could not open file %s\",\n",
        "               filename);\n",
        "        return 0;\n",
        "    }\n",
        "\n",
        "    // Extract characters from file\n",
        "    // and store in character c\n",
        "    for (c = getc(fp); c != EOF; c = getc(fp)) {\n",
        "        // exit if at end of file\n",
        "        if ( c == EOF )\n",
        "            break;\n",
        "\n",
        "        if ( c == ',' )\n",
        "            column_comma_counter++;\n",
        "\n",
        "        if ( c == '\\\\n' )\n",
        "            row_newline_counter++;\n",
        "        }\n",
        "\n",
        "    // Close the file\n",
        "    fclose(fp);\n",
        "\n",
        "    printf(\"\\\\nshape(%s) = (%d,%d) (rows, columns)\",\n",
        "        filename, row_newline_counter, column_comma_counter);\n",
        "\n",
        "    return 0;\n",
        "}\n",
        "\"\"\"\n",
        "\n",
        "####################################\n",
        "# Make it: Make your .c source file\n",
        "####################################\n",
        "with open('source_file.c', \"w\") as file_object:\n",
        "   # write file content\n",
        "   file_object.write( c_source_code_string )\n",
        "\n",
        "#################################\n",
        "# Compile your c executible file\n",
        "#################################\n",
        "\n",
        "! gcc -o executable.exe source_file.c\n",
        "\n",
        "##########################################\n",
        "# List Files in Current Working Directory\n",
        "##########################################\n",
        "!ls\n",
        "\n",
        "#############################\n",
        "# Run your c executible file\n",
        "#############################\n",
        "\n",
        "!./executable.exe\n"
      ],
      "metadata": {
        "colab": {
          "base_uri": "https://localhost:8080/"
        },
        "id": "dTTAz2FD7PAD",
        "outputId": "8ac40043-a8f1-4b5d-c763-7e1ec836933c"
      },
      "execution_count": 21,
      "outputs": [
        {
          "output_type": "stream",
          "name": "stdout",
          "text": [
            "demo.csv  executable.exe  sample_data  source_file.c\n",
            "\n",
            "shape(demo.csv) = (2,6) (rows, columns)"
          ]
        }
      ]
    },
    {
      "cell_type": "markdown",
      "source": [
        "# Lint"
      ],
      "metadata": {
        "id": "E8_MAQ2jE9Td"
      }
    },
    {
      "cell_type": "code",
      "source": [
        "!pip install cpplint"
      ],
      "metadata": {
        "colab": {
          "base_uri": "https://localhost:8080/"
        },
        "id": "G_U4xMyQE0u4",
        "outputId": "987f30b8-24b3-4a40-e9e8-3576f2e1cbff"
      },
      "execution_count": 13,
      "outputs": [
        {
          "output_type": "stream",
          "name": "stdout",
          "text": [
            "Looking in indexes: https://pypi.org/simple, https://us-python.pkg.dev/colab-wheels/public/simple/\n",
            "Collecting cpplint\n",
            "  Downloading cpplint-1.6.1-py3-none-any.whl (77 kB)\n",
            "\u001b[K     |████████████████████████████████| 77 kB 2.8 MB/s \n",
            "\u001b[?25hInstalling collected packages: cpplint\n",
            "Successfully installed cpplint-1.6.1\n"
          ]
        }
      ]
    },
    {
      "cell_type": "code",
      "source": [
        "!cpplint source_file.c"
      ],
      "metadata": {
        "colab": {
          "base_uri": "https://localhost:8080/"
        },
        "id": "DgOrkzDTE-Un",
        "outputId": "733ab39b-4bba-4e12-8a27-3aae32f03d17"
      },
      "execution_count": 22,
      "outputs": [
        {
          "output_type": "stream",
          "name": "stdout",
          "text": [
            "Done processing source_file.c\n"
          ]
        }
      ]
    },
    {
      "cell_type": "markdown",
      "source": [
        "# name real file"
      ],
      "metadata": {
        "id": "EWXjQU7wIOHX"
      }
    },
    {
      "cell_type": "code",
      "source": [
        "\"\"\"\n",
        "shape:\n",
        "\"\"\"\n",
        "\n",
        "c_source_code_string = \"\"\"/*\n",
        "df.shape() function for c csv_db\n",
        "\n",
        "GGAshbrook 2022.08.21\n",
        "\n",
        "\"Copyright [year] <Copyright Owner>\"  [legal/copyright]\"\n",
        "*/\n",
        "\n",
        "// C Program to count\n",
        "// the Number of Characters in a Text File\n",
        "\n",
        "#include <stdio.h>\n",
        "#define MAX_FILE_NAME 100\n",
        "\n",
        "int main() {\n",
        "    FILE* fp;\n",
        "\n",
        "    // Character counter (result)\n",
        "    int count = 0;\n",
        "    int collumn_comma_count = 0;\n",
        "    int row_new_line_count = 0;\n",
        "\n",
        "    int column_comma_counter = 0, row_newline_counter = 0;\n",
        "\n",
        "    char filename[MAX_FILE_NAME]  = \"demo.csv\";\n",
        "\n",
        "    // To store a character read from file\n",
        "    char c;\n",
        "\n",
        "    // Get file name from user.\n",
        "    // The file should be either in current folder\n",
        "    // or complete path should be provided\n",
        "    // printf(\"Enter file name: \");\n",
        "    // scanf(\"%s\", filename);\n",
        "\n",
        "    // Open the file\n",
        "    fp = fopen(filename, \"r\");\n",
        "\n",
        "    // Check if file exists\n",
        "    if (fp == NULL) {\n",
        "        printf(\"Could not open file %s\",\n",
        "               filename);\n",
        "        return 0;\n",
        "    }\n",
        "\n",
        "    // Extract characters from file\n",
        "    // and store in character c\n",
        "    for (c = getc(fp); c != EOF; c = getc(fp)) {\n",
        "        // exit if at end of file\n",
        "        if ( c == EOF )\n",
        "            break;\n",
        "\n",
        "        if ( c == ',' )\n",
        "            column_comma_counter++;\n",
        "\n",
        "        if ( c == '\\\\n' )\n",
        "            row_newline_counter++;\n",
        "        }\n",
        "\n",
        "    // Close the file\n",
        "    fclose(fp);\n",
        "\n",
        "    printf(\"\\\\nshape(%s) = (%d,%d) (rows, columns)\",\n",
        "        filename, row_newline_counter, column_comma_counter);\n",
        "\n",
        "    return 0;\n",
        "}\n",
        "\"\"\"\n",
        "\n",
        "####################################\n",
        "# Make it: Make your .c source file\n",
        "####################################\n",
        "with open('source_file.c', \"w\") as file_object:\n",
        "   # write file content\n",
        "   file_object.write( c_source_code_string )\n",
        "\n",
        "#################################\n",
        "# Compile your c executible file\n",
        "#################################\n",
        "\n",
        "! gcc -o df_shape.exe source_file.c\n",
        "\n",
        "##########################################\n",
        "# List Files in Current Working Directory\n",
        "##########################################\n",
        "!ls\n",
        "\n",
        "#############################\n",
        "# Run your c executible file\n",
        "#############################\n",
        "\n",
        "!./executable.exe\n"
      ],
      "metadata": {
        "colab": {
          "base_uri": "https://localhost:8080/"
        },
        "id": "sDbzG2MhIP12",
        "outputId": "2ecab46d-473a-47f8-a15f-c5a6aea4a960"
      },
      "execution_count": 23,
      "outputs": [
        {
          "output_type": "stream",
          "name": "stdout",
          "text": [
            "demo.csv  df_shape.exe\texecutable.exe\tsample_data  source_file.c\n",
            "\n",
            "shape(demo.csv) = (2,6) (rows, columns)"
          ]
        }
      ]
    }
  ]
}